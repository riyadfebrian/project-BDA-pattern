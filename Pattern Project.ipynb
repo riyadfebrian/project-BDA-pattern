{
 "cells": [
  {
   "cell_type": "code",
   "execution_count": 1,
   "metadata": {},
   "outputs": [],
   "source": [
    "import string\n",
    "import random\n",
    "import os\n",
    "import shutil\n",
    "import subprocess #library wajib"
   ]
  },
  {
   "cell_type": "code",
   "execution_count": 2,
   "metadata": {},
   "outputs": [],
   "source": [
    "# Cuplikan kode dati Project 2 Django\n",
    "################################################################\n",
    "def run_process(l):\n",
    "    print(' '.join(l))\n",
    "    try:\n",
    "        process = subprocess.Popen(l, stdout=subprocess.PIPE, stderr=subprocess.PIPE)\n",
    "        stdout, stderr = [s.decode() for s in process.communicate()]\n",
    "        print(stdout)\n",
    "        print(stderr)\n",
    "        return 0, stdout, stderr\n",
    "    except subprocess.CalledProcessError as e:\n",
    "        stdout, stderr = process.communicate()\n",
    "        print(\"Program returned exitcode %d\" % process.returncode)\n",
    "        print(stderr)\n",
    "        print(stdout)\n",
    "        return process.returncode, stdout, stderr\n",
    "################################################################"
   ]
  },
  {
   "cell_type": "code",
   "execution_count": 3,
   "metadata": {},
   "outputs": [],
   "source": [
    "# Konversi Kodingan dari .ipynb ke .py\n",
    "# contoh di file openweather.py"
   ]
  },
  {
   "cell_type": "code",
   "execution_count": 4,
   "metadata": {},
   "outputs": [
    {
     "name": "stdout",
     "output_type": "stream",
     "text": [
      "python openweather.py Malang\n",
      "{'coord': {'lon': 112.63, 'lat': -7.98}, 'weather': [{'id': 500, 'main': 'Rain', 'description': 'light rain', 'icon': '10d'}], 'base': 'model', 'main': {'temp': 301.41, 'pressure': 1009, 'humidity': 61, 'temp_min': 301.41, 'temp_max': 301.41, 'sea_level': 1009, 'grnd_level': 925}, 'wind': {'speed': 2.03, 'deg': 230}, 'rain': {'3h': 2.63}, 'clouds': {'all': 36}, 'dt': 1573456921, 'sys': {'country': 'ID', 'sunrise': 1573423199, 'sunset': 1573468019}, 'timezone': 25200, 'id': 1636722, 'name': 'Malang', 'cod': 200}\n",
      "\n",
      "\n"
     ]
    }
   ],
   "source": [
    "exitcode, stdout, stdin = run_process(\n",
    "            ['python', 'openweather.py', 'Malang'])\n",
    "# runprocess sebenernya sama seperti kita jalanin perintah terminal. \n",
    "# cuma bedanya setiap perintah dipecah perkata soalnya nanti bakalan di join di method run_process\n",
    "# koding diatas sama seperti menjalankan perintah : \n",
    "# python openweather.py Malang\n"
   ]
  },
  {
   "cell_type": "code",
   "execution_count": 5,
   "metadata": {},
   "outputs": [
    {
     "name": "stdout",
     "output_type": "stream",
     "text": [
      "{'coord': {'lon': 112.63, 'lat': -7.98}, 'weather': [{'id': 500, 'main': 'Rain', 'description': 'light rain', 'icon': '10d'}], 'base': 'model', 'main': {'temp': 301.41, 'pressure': 1009, 'humidity': 61, 'temp_min': 301.41, 'temp_max': 301.41, 'sea_level': 1009, 'grnd_level': 925}, 'wind': {'speed': 2.03, 'deg': 230}, 'rain': {'3h': 2.63}, 'clouds': {'all': 36}, 'dt': 1573456921, 'sys': {'country': 'ID', 'sunrise': 1573423199, 'sunset': 1573468019}, 'timezone': 25200, 'id': 1636722, 'name': 'Malang', 'cod': 200}\r\n",
      "\n"
     ]
    }
   ],
   "source": [
    "#cek output\n",
    "print(stdout)"
   ]
  },
  {
   "cell_type": "code",
   "execution_count": 6,
   "metadata": {},
   "outputs": [
    {
     "data": {
      "text/plain": [
       "str"
      ]
     },
     "execution_count": 6,
     "metadata": {},
     "output_type": "execute_result"
    }
   ],
   "source": [
    "#tampilan output terlihat seperti json structure, tapi sebenernya itu cuma string. \n",
    "#soalnya stdout ngambil dari perintah yg dicetak pada file.py\n",
    "type(stdout)"
   ]
  },
  {
   "cell_type": "code",
   "execution_count": 7,
   "metadata": {},
   "outputs": [
    {
     "data": {
      "text/plain": [
       "dict"
      ]
     },
     "execution_count": 7,
     "metadata": {},
     "output_type": "execute_result"
    }
   ],
   "source": [
    "#dari str bisa kita rubah ke format dict pakai fungsi eval()\n",
    "data_temperature = eval(stdout)\n",
    "type(data_temperature)"
   ]
  },
  {
   "cell_type": "code",
   "execution_count": 8,
   "metadata": {},
   "outputs": [
    {
     "data": {
      "text/plain": [
       "301.41"
      ]
     },
     "execution_count": 8,
     "metadata": {},
     "output_type": "execute_result"
    }
   ],
   "source": [
    "#kalo udah jadi dict, data bisa diambil pake keynya, misal\n",
    "data_temperature['main']['temp']"
   ]
  },
  {
   "cell_type": "code",
   "execution_count": 9,
   "metadata": {},
   "outputs": [],
   "source": [
    "#atau direturn response ke user dalam bentuk json"
   ]
  },
  {
   "cell_type": "code",
   "execution_count": null,
   "metadata": {},
   "outputs": [],
   "source": []
  }
 ],
 "metadata": {
  "kernelspec": {
   "display_name": "Python 3",
   "language": "python",
   "name": "python3"
  },
  "language_info": {
   "codemirror_mode": {
    "name": "ipython",
    "version": 3
   },
   "file_extension": ".py",
   "mimetype": "text/x-python",
   "name": "python",
   "nbconvert_exporter": "python",
   "pygments_lexer": "ipython3",
   "version": "3.7.5"
  }
 },
 "nbformat": 4,
 "nbformat_minor": 2
}
